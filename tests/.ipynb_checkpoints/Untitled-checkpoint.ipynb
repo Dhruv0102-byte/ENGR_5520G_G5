{
 "cells": [
  {
   "cell_type": "code",
   "execution_count": 4,
   "id": "96ff0fd3",
   "metadata": {},
   "outputs": [
    {
     "ename": "ModuleNotFoundError",
     "evalue": "No module named 'Parse_Input'",
     "output_type": "error",
     "traceback": [
      "\u001b[1;31m---------------------------------------------------------------------------\u001b[0m",
      "\u001b[1;31mModuleNotFoundError\u001b[0m                       Traceback (most recent call last)",
      "Cell \u001b[1;32mIn[4], line 4\u001b[0m\n\u001b[0;32m      1\u001b[0m \u001b[38;5;28;01mimport\u001b[39;00m \u001b[38;5;21;01msys\u001b[39;00m\n\u001b[0;32m      2\u001b[0m sys\u001b[38;5;241m.\u001b[39mpath\u001b[38;5;241m.\u001b[39mappend(\u001b[38;5;124m\"\u001b[39m\u001b[38;5;124mC:/Users/KRISHNA/Desktop/SHWETA/Fall 2024/ENGR_5520G_G5/Parse_Input.py\u001b[39m\u001b[38;5;124m\"\u001b[39m)  \u001b[38;5;66;03m# Replace with the correct path\u001b[39;00m\n\u001b[1;32m----> 4\u001b[0m \u001b[38;5;28;01mfrom\u001b[39;00m \u001b[38;5;21;01mParse_Input\u001b[39;00m \u001b[38;5;28;01mimport\u001b[39;00m LoanProcessor\n",
      "\u001b[1;31mModuleNotFoundError\u001b[0m: No module named 'Parse_Input'"
     ]
    }
   ],
   "source": [
    "import sys\n",
    "sys.path.append(\"C:/Users/KRISHNA/Desktop/SHWETA/Fall 2024/ENGR_5520G_G5/Parse_Input.py\")  # Replace with the correct path\n",
    "\n",
    "from Parse_Input import LoanProcessor"
   ]
  },
  {
   "cell_type": "code",
   "execution_count": null,
   "id": "ca4e5d3f",
   "metadata": {},
   "outputs": [],
   "source": []
  }
 ],
 "metadata": {
  "kernelspec": {
   "display_name": "Python 3 (ipykernel)",
   "language": "python",
   "name": "python3"
  },
  "language_info": {
   "codemirror_mode": {
    "name": "ipython",
    "version": 3
   },
   "file_extension": ".py",
   "mimetype": "text/x-python",
   "name": "python",
   "nbconvert_exporter": "python",
   "pygments_lexer": "ipython3",
   "version": "3.11.5"
  }
 },
 "nbformat": 4,
 "nbformat_minor": 5
}
