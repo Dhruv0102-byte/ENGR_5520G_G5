{
 "cells": [
  {
   "cell_type": "code",
   "execution_count": 51,
   "id": "5b1a538b",
   "metadata": {},
   "outputs": [],
   "source": [
    "import pandas as pd\n",
    "import matplotlib.pyplot as plt"
   ]
  },
  {
   "cell_type": "code",
   "execution_count": 52,
   "id": "69976747",
   "metadata": {},
   "outputs": [
    {
     "name": "stderr",
     "output_type": "stream",
     "text": [
      "C:\\Users\\KRISHNA\\AppData\\Local\\Temp\\ipykernel_18100\\4249260198.py:1: DtypeWarning: Columns (34,38,80,82,83,89,90) have mixed types. Specify dtype option on import or set low_memory=False.\n",
      "  df = pd.read_csv(\"C:/Users/KRISHNA/Desktop/SHWETA/Fall 2024/Project/Loan_approval_dataset.csv\")\n"
     ]
    }
   ],
   "source": [
    "df = pd.read_csv(\"C:/Users/KRISHNA/Desktop/SHWETA/Fall 2024/Project/Loan_approval_dataset.csv\")"
   ]
  },
  {
   "cell_type": "code",
   "execution_count": 53,
   "id": "71a0301d",
   "metadata": {},
   "outputs": [
    {
     "data": {
      "text/html": [
       "<div>\n",
       "<style scoped>\n",
       "    .dataframe tbody tr th:only-of-type {\n",
       "        vertical-align: middle;\n",
       "    }\n",
       "\n",
       "    .dataframe tbody tr th {\n",
       "        vertical-align: top;\n",
       "    }\n",
       "\n",
       "    .dataframe thead th {\n",
       "        text-align: right;\n",
       "    }\n",
       "</style>\n",
       "<table border=\"1\" class=\"dataframe\">\n",
       "  <thead>\n",
       "    <tr style=\"text-align: right;\">\n",
       "      <th></th>\n",
       "      <th>ReportAsOfEOD</th>\n",
       "      <th>LoanId</th>\n",
       "      <th>LoanNumber</th>\n",
       "      <th>ListedOnUTC</th>\n",
       "      <th>BiddingStartedOn</th>\n",
       "      <th>BidsPortfolioManager</th>\n",
       "      <th>BidsApi</th>\n",
       "      <th>BidsManual</th>\n",
       "      <th>UserName</th>\n",
       "      <th>NewCreditCustomer</th>\n",
       "      <th>...</th>\n",
       "      <th>PreviousEarlyRepaymentsCountBeforeLoan</th>\n",
       "      <th>GracePeriodStart</th>\n",
       "      <th>GracePeriodEnd</th>\n",
       "      <th>NextPaymentDate</th>\n",
       "      <th>NextPaymentNr</th>\n",
       "      <th>NrOfScheduledPayments</th>\n",
       "      <th>ReScheduledOn</th>\n",
       "      <th>PrincipalDebtServicingCost</th>\n",
       "      <th>InterestAndPenaltyDebtServicingCost</th>\n",
       "      <th>ActiveLateLastPaymentCategory</th>\n",
       "    </tr>\n",
       "  </thead>\n",
       "  <tbody>\n",
       "    <tr>\n",
       "      <th>0</th>\n",
       "      <td>20-07-2021</td>\n",
       "      <td>66AE108B-532B-4BB3-BAB7-0019A46412C1</td>\n",
       "      <td>483449</td>\n",
       "      <td>23-03-2016 16:07</td>\n",
       "      <td>23-03-2016 16:07</td>\n",
       "      <td>970</td>\n",
       "      <td>1150</td>\n",
       "      <td>5.0</td>\n",
       "      <td>BO965519</td>\n",
       "      <td>False</td>\n",
       "      <td>...</td>\n",
       "      <td>0.0</td>\n",
       "      <td>28-10-2019</td>\n",
       "      <td>27-01-2020</td>\n",
       "      <td>NaN</td>\n",
       "      <td>NaN</td>\n",
       "      <td>NaN</td>\n",
       "      <td>NaN</td>\n",
       "      <td>0.00</td>\n",
       "      <td>51.73</td>\n",
       "      <td>31-60</td>\n",
       "    </tr>\n",
       "    <tr>\n",
       "      <th>1</th>\n",
       "      <td>20-07-2021</td>\n",
       "      <td>D152382E-A50D-46ED-8FF2-0053E0C86A70</td>\n",
       "      <td>378148</td>\n",
       "      <td>25-06-2015 11:02</td>\n",
       "      <td>25-06-2015 11:02</td>\n",
       "      <td>1295</td>\n",
       "      <td>0</td>\n",
       "      <td>1705.0</td>\n",
       "      <td>BOA9K172A</td>\n",
       "      <td>False</td>\n",
       "      <td>...</td>\n",
       "      <td>1.0</td>\n",
       "      <td>NaN</td>\n",
       "      <td>NaN</td>\n",
       "      <td>NaN</td>\n",
       "      <td>NaN</td>\n",
       "      <td>NaN</td>\n",
       "      <td>NaN</td>\n",
       "      <td>0.00</td>\n",
       "      <td>47.08</td>\n",
       "      <td>180+</td>\n",
       "    </tr>\n",
       "    <tr>\n",
       "      <th>2</th>\n",
       "      <td>20-07-2021</td>\n",
       "      <td>87342E13-66CB-483F-833A-007953E50C78</td>\n",
       "      <td>451831</td>\n",
       "      <td>14-01-2016 10:00</td>\n",
       "      <td>14-01-2016 10:00</td>\n",
       "      <td>2700</td>\n",
       "      <td>565</td>\n",
       "      <td>5835.0</td>\n",
       "      <td>BO7971663</td>\n",
       "      <td>True</td>\n",
       "      <td>...</td>\n",
       "      <td>0.0</td>\n",
       "      <td>NaN</td>\n",
       "      <td>NaN</td>\n",
       "      <td>NaN</td>\n",
       "      <td>NaN</td>\n",
       "      <td>NaN</td>\n",
       "      <td>NaN</td>\n",
       "      <td>259.67</td>\n",
       "      <td>1659.60</td>\n",
       "      <td>180+</td>\n",
       "    </tr>\n",
       "    <tr>\n",
       "      <th>3</th>\n",
       "      <td>20-07-2021</td>\n",
       "      <td>87227056-6BF9-410C-98D1-008F788E122A</td>\n",
       "      <td>349381</td>\n",
       "      <td>24-03-2015 15:55</td>\n",
       "      <td>24-03-2015 15:55</td>\n",
       "      <td>1115</td>\n",
       "      <td>0</td>\n",
       "      <td>385.0</td>\n",
       "      <td>BO76151K3</td>\n",
       "      <td>True</td>\n",
       "      <td>...</td>\n",
       "      <td>1.0</td>\n",
       "      <td>NaN</td>\n",
       "      <td>NaN</td>\n",
       "      <td>NaN</td>\n",
       "      <td>NaN</td>\n",
       "      <td>NaN</td>\n",
       "      <td>NaN</td>\n",
       "      <td>0.00</td>\n",
       "      <td>215.05</td>\n",
       "      <td>180+</td>\n",
       "    </tr>\n",
       "    <tr>\n",
       "      <th>4</th>\n",
       "      <td>20-07-2021</td>\n",
       "      <td>2DDE6336-E466-4624-A337-00A0ED1A1468</td>\n",
       "      <td>443082</td>\n",
       "      <td>17-12-2015 10:12</td>\n",
       "      <td>17-12-2015 10:12</td>\n",
       "      <td>305</td>\n",
       "      <td>0</td>\n",
       "      <td>785.0</td>\n",
       "      <td>BOK423A63</td>\n",
       "      <td>True</td>\n",
       "      <td>...</td>\n",
       "      <td>0.0</td>\n",
       "      <td>NaN</td>\n",
       "      <td>NaN</td>\n",
       "      <td>NaN</td>\n",
       "      <td>NaN</td>\n",
       "      <td>NaN</td>\n",
       "      <td>NaN</td>\n",
       "      <td>0.00</td>\n",
       "      <td>0.00</td>\n",
       "      <td>180+</td>\n",
       "    </tr>\n",
       "  </tbody>\n",
       "</table>\n",
       "<p>5 rows × 112 columns</p>\n",
       "</div>"
      ],
      "text/plain": [
       "  ReportAsOfEOD                                LoanId  LoanNumber  \\\n",
       "0    20-07-2021  66AE108B-532B-4BB3-BAB7-0019A46412C1      483449   \n",
       "1    20-07-2021  D152382E-A50D-46ED-8FF2-0053E0C86A70      378148   \n",
       "2    20-07-2021  87342E13-66CB-483F-833A-007953E50C78      451831   \n",
       "3    20-07-2021  87227056-6BF9-410C-98D1-008F788E122A      349381   \n",
       "4    20-07-2021  2DDE6336-E466-4624-A337-00A0ED1A1468      443082   \n",
       "\n",
       "        ListedOnUTC  BiddingStartedOn  BidsPortfolioManager  BidsApi  \\\n",
       "0  23-03-2016 16:07  23-03-2016 16:07                   970     1150   \n",
       "1  25-06-2015 11:02  25-06-2015 11:02                  1295        0   \n",
       "2  14-01-2016 10:00  14-01-2016 10:00                  2700      565   \n",
       "3  24-03-2015 15:55  24-03-2015 15:55                  1115        0   \n",
       "4  17-12-2015 10:12  17-12-2015 10:12                   305        0   \n",
       "\n",
       "   BidsManual   UserName  NewCreditCustomer  ...  \\\n",
       "0         5.0   BO965519              False  ...   \n",
       "1      1705.0  BOA9K172A              False  ...   \n",
       "2      5835.0  BO7971663               True  ...   \n",
       "3       385.0  BO76151K3               True  ...   \n",
       "4       785.0  BOK423A63               True  ...   \n",
       "\n",
       "  PreviousEarlyRepaymentsCountBeforeLoan GracePeriodStart GracePeriodEnd  \\\n",
       "0                                    0.0       28-10-2019     27-01-2020   \n",
       "1                                    1.0              NaN            NaN   \n",
       "2                                    0.0              NaN            NaN   \n",
       "3                                    1.0              NaN            NaN   \n",
       "4                                    0.0              NaN            NaN   \n",
       "\n",
       "  NextPaymentDate NextPaymentNr NrOfScheduledPayments  ReScheduledOn  \\\n",
       "0             NaN           NaN                   NaN            NaN   \n",
       "1             NaN           NaN                   NaN            NaN   \n",
       "2             NaN           NaN                   NaN            NaN   \n",
       "3             NaN           NaN                   NaN            NaN   \n",
       "4             NaN           NaN                   NaN            NaN   \n",
       "\n",
       "   PrincipalDebtServicingCost  InterestAndPenaltyDebtServicingCost  \\\n",
       "0                        0.00                                51.73   \n",
       "1                        0.00                                47.08   \n",
       "2                      259.67                              1659.60   \n",
       "3                        0.00                               215.05   \n",
       "4                        0.00                                 0.00   \n",
       "\n",
       "   ActiveLateLastPaymentCategory  \n",
       "0                          31-60  \n",
       "1                           180+  \n",
       "2                           180+  \n",
       "3                           180+  \n",
       "4                           180+  \n",
       "\n",
       "[5 rows x 112 columns]"
      ]
     },
     "execution_count": 53,
     "metadata": {},
     "output_type": "execute_result"
    }
   ],
   "source": [
    "df.head()"
   ]
  },
  {
   "cell_type": "code",
   "execution_count": 54,
   "id": "e4b5faf1",
   "metadata": {},
   "outputs": [
    {
     "data": {
      "text/plain": [
       "Index(['ReportAsOfEOD', 'LoanId', 'LoanNumber', 'ListedOnUTC',\n",
       "       'BiddingStartedOn', 'BidsPortfolioManager', 'BidsApi', 'BidsManual',\n",
       "       'UserName', 'NewCreditCustomer',\n",
       "       ...\n",
       "       'PreviousEarlyRepaymentsCountBeforeLoan', 'GracePeriodStart',\n",
       "       'GracePeriodEnd', 'NextPaymentDate', 'NextPaymentNr',\n",
       "       'NrOfScheduledPayments', 'ReScheduledOn', 'PrincipalDebtServicingCost',\n",
       "       'InterestAndPenaltyDebtServicingCost', 'ActiveLateLastPaymentCategory'],\n",
       "      dtype='object', length=112)"
      ]
     },
     "execution_count": 54,
     "metadata": {},
     "output_type": "execute_result"
    }
   ],
   "source": [
    "df.columns"
   ]
  },
  {
   "cell_type": "code",
   "execution_count": 55,
   "id": "0011196c",
   "metadata": {},
   "outputs": [
    {
     "data": {
      "text/plain": [
       "Index(['ReportAsOfEOD', 'LoanId', 'LoanNumber', 'ListedOnUTC',\n",
       "       'BiddingStartedOn', 'BidsPortfolioManager', 'BidsApi', 'BidsManual',\n",
       "       'UserName', 'NewCreditCustomer', 'LoanApplicationStartedDate',\n",
       "       'LoanDate', 'FirstPaymentDate', 'MaturityDate_Original',\n",
       "       'MaturityDate_Last', 'ApplicationSignedHour',\n",
       "       'ApplicationSignedWeekday', 'LanguageCode', 'Age', 'Country',\n",
       "       'AppliedAmount', 'Amount', 'Interest', 'LoanDuration', 'UseOfLoan',\n",
       "       'IncomeFromPrincipalEmployer', 'IncomeFromPension',\n",
       "       'IncomeFromFamilyAllowance', 'IncomeFromSocialWelfare',\n",
       "       'IncomeFromLeavePay', 'IncomeFromChildSupport', 'IncomeOther',\n",
       "       'IncomeTotal', 'ExistingLiabilities', 'LiabilitiesTotal',\n",
       "       'RefinanceLiabilities', 'MonthlyPaymentDay',\n",
       "       'ActiveScheduleFirstPaymentReached', 'Status', 'Restructured',\n",
       "       'PrincipalPaymentsMade', 'InterestAndPenaltyPaymentsMade',\n",
       "       'PrincipalBalance'],\n",
       "      dtype='object')"
      ]
     },
     "execution_count": 55,
     "metadata": {},
     "output_type": "execute_result"
    }
   ],
   "source": [
    "#columns with not null values\n",
    "new_df=df.columns[df.isnull().sum()==0]\n",
    "new_df"
   ]
  },
  {
   "cell_type": "code",
   "execution_count": 56,
   "id": "25597d1f",
   "metadata": {},
   "outputs": [
    {
     "data": {
      "text/plain": [
       "Index(['LoanNumber', 'UserName', 'NewCreditCustomer', 'VerificationType',\n",
       "       'LanguageCode', 'Age', 'DateOfBirth', 'Gender', 'Country',\n",
       "       'AppliedAmount', 'Amount', 'Interest', 'LoanDuration', 'MonthlyPayment',\n",
       "       'County', 'City', 'UseOfLoan', 'Education', 'MaritalStatus',\n",
       "       'NrOfDependants', 'EmploymentStatus',\n",
       "       'EmploymentDurationCurrentEmployer', 'EmploymentPosition',\n",
       "       'WorkExperience', 'OccupationArea', 'HomeOwnershipType',\n",
       "       'IncomeFromPrincipalEmployer', 'IncomeFromPension',\n",
       "       'IncomeFromFamilyAllowance', 'IncomeFromSocialWelfare',\n",
       "       'IncomeFromLeavePay', 'IncomeFromChildSupport', 'IncomeOther',\n",
       "       'IncomeTotal', 'ExistingLiabilities', 'LiabilitiesTotal',\n",
       "       'RefinanceLiabilities', 'DebtToIncome', 'FreeCash', 'MonthlyPaymentDay',\n",
       "       'PlannedPrincipalTillDate', 'PlannedInterestTillDate', 'LastPaymentOn',\n",
       "       'CurrentDebtDaysPrimary', 'DebtOccuredOn', 'CurrentDebtDaysSecondary',\n",
       "       'DebtOccuredOnForSecondary', 'ExpectedLoss', 'LossGivenDefault',\n",
       "       'ExpectedReturn', 'ProbabilityOfDefault', 'DefaultDate',\n",
       "       'PrincipalOverdueBySchedule', 'PlannedPrincipalPostDefault',\n",
       "       'PlannedInterestPostDefault', 'EAD1', 'EAD2', 'PrincipalRecovery',\n",
       "       'InterestRecovery', 'RecoveryStage', 'StageActiveSince', 'Rating',\n",
       "       'EL_V0', 'Rating_V0', 'EL_V1', 'Rating_V1', 'Rating_V2', 'Status',\n",
       "       'Restructured', 'ActiveLateCategory', 'WorseLateCategory',\n",
       "       'CreditScoreEsMicroL', 'CreditScoreEsEquifaxRisk',\n",
       "       'CreditScoreFiAsiakasTietoRiskGrade', 'CreditScoreEeMini',\n",
       "       'PrincipalPaymentsMade', 'InterestAndPenaltyPaymentsMade',\n",
       "       'PrincipalWriteOffs', 'InterestAndPenaltyWriteOffs', 'PrincipalBalance',\n",
       "       'InterestAndPenaltyBalance', 'NoOfPreviousLoansBeforeLoan',\n",
       "       'AmountOfPreviousLoansBeforeLoan', 'PreviousRepaymentsBeforeLoan',\n",
       "       'PreviousEarlyRepaymentsBefoleLoan',\n",
       "       'PreviousEarlyRepaymentsCountBeforeLoan', 'GracePeriodStart',\n",
       "       'GracePeriodEnd', 'NextPaymentDate', 'NextPaymentNr',\n",
       "       'NrOfScheduledPayments', 'ReScheduledOn', 'PrincipalDebtServicingCost',\n",
       "       'InterestAndPenaltyDebtServicingCost', 'ActiveLateLastPaymentCategory'],\n",
       "      dtype='object')"
      ]
     },
     "execution_count": 56,
     "metadata": {},
     "output_type": "execute_result"
    }
   ],
   "source": [
    "# Dropping the unnecessary columns.\n",
    "drop_cols=['ReportAsOfEOD', 'LoanId', 'ListedOnUTC', 'BiddingStartedOn',\n",
    "'BidsPortfolioManager', 'BidsApi', 'BidsManual', 'LoanApplicationStartedDate', 'LoanDate', 'ContractEndDate', 'FirstPaymentDate', 'MaturityDate_Original', 'MaturityDate_Last', 'ApplicationSignedHour', 'ApplicationSignedWeekday', 'ActiveScheduleFirstPaymentReached','ModelVersion']\n",
    "df.drop(drop_cols,axis=1,inplace=True)\n",
    "df.columns"
   ]
  },
  {
   "cell_type": "code",
   "execution_count": 57,
   "id": "17f2b246",
   "metadata": {},
   "outputs": [
    {
     "name": "stdout",
     "output_type": "stream",
     "text": [
      "Index(['DateOfBirth', 'County', 'City', 'NrOfDependants', 'EmploymentPosition',\n",
      "       'WorkExperience', 'PlannedPrincipalTillDate', 'CurrentDebtDaysPrimary',\n",
      "       'DebtOccuredOn', 'CurrentDebtDaysSecondary',\n",
      "       'DebtOccuredOnForSecondary', 'DefaultDate',\n",
      "       'PlannedPrincipalPostDefault', 'PlannedInterestPostDefault', 'EAD1',\n",
      "       'EAD2', 'PrincipalRecovery', 'InterestRecovery', 'EL_V0', 'Rating_V0',\n",
      "       'EL_V1', 'Rating_V1', 'Rating_V2', 'ActiveLateCategory',\n",
      "       'CreditScoreEsEquifaxRisk', 'CreditScoreFiAsiakasTietoRiskGrade',\n",
      "       'PrincipalWriteOffs', 'InterestAndPenaltyWriteOffs',\n",
      "       'PreviousEarlyRepaymentsBefoleLoan', 'GracePeriodStart',\n",
      "       'GracePeriodEnd', 'NextPaymentDate', 'ReScheduledOn',\n",
      "       'PrincipalDebtServicingCost', 'InterestAndPenaltyDebtServicingCost',\n",
      "       'ActiveLateLastPaymentCategory'],\n",
      "      dtype='object')\n"
     ]
    }
   ],
   "source": [
    "# Dropping columns with more than 50% missing values\n",
    "missing_percent = df.isnull().mean()\n",
    "# Identify columns with more than 50% missing values\n",
    "dropped_columns = missing_percent[missing_percent > 0.5].index\n",
    "print(dropped_columns)"
   ]
  },
  {
   "cell_type": "code",
   "execution_count": 58,
   "id": "e26134bf",
   "metadata": {},
   "outputs": [
    {
     "data": {
      "text/plain": [
       "Index(['LoanNumber', 'UserName', 'NewCreditCustomer', 'VerificationType',\n",
       "       'LanguageCode', 'Age', 'Gender', 'Country', 'AppliedAmount', 'Amount',\n",
       "       'Interest', 'LoanDuration', 'MonthlyPayment', 'UseOfLoan', 'Education',\n",
       "       'MaritalStatus', 'EmploymentStatus',\n",
       "       'EmploymentDurationCurrentEmployer', 'OccupationArea',\n",
       "       'HomeOwnershipType', 'IncomeFromPrincipalEmployer', 'IncomeFromPension',\n",
       "       'IncomeFromFamilyAllowance', 'IncomeFromSocialWelfare',\n",
       "       'IncomeFromLeavePay', 'IncomeFromChildSupport', 'IncomeOther',\n",
       "       'IncomeTotal', 'ExistingLiabilities', 'LiabilitiesTotal',\n",
       "       'RefinanceLiabilities', 'DebtToIncome', 'FreeCash', 'MonthlyPaymentDay',\n",
       "       'PlannedInterestTillDate', 'LastPaymentOn', 'ExpectedLoss',\n",
       "       'LossGivenDefault', 'ExpectedReturn', 'ProbabilityOfDefault',\n",
       "       'PrincipalOverdueBySchedule', 'RecoveryStage', 'StageActiveSince',\n",
       "       'Rating', 'Status', 'Restructured', 'WorseLateCategory',\n",
       "       'CreditScoreEsMicroL', 'CreditScoreEeMini', 'PrincipalPaymentsMade',\n",
       "       'InterestAndPenaltyPaymentsMade', 'PrincipalBalance',\n",
       "       'InterestAndPenaltyBalance', 'NoOfPreviousLoansBeforeLoan',\n",
       "       'AmountOfPreviousLoansBeforeLoan', 'PreviousRepaymentsBeforeLoan',\n",
       "       'PreviousEarlyRepaymentsCountBeforeLoan', 'NextPaymentNr',\n",
       "       'NrOfScheduledPayments'],\n",
       "      dtype='object')"
      ]
     },
     "execution_count": 58,
     "metadata": {},
     "output_type": "execute_result"
    }
   ],
   "source": [
    "df = df.drop(columns=dropped_columns)\n",
    "df.columns"
   ]
  },
  {
   "cell_type": "code",
   "execution_count": 59,
   "id": "0adcee58",
   "metadata": {},
   "outputs": [],
   "source": [
    "df['TotalIncome'] = (df['IncomeFromPrincipalEmployer'] + df['IncomeFromPension'] + \n",
    "                     df['IncomeFromFamilyAllowance'] + df['IncomeFromSocialWelfare'] + \n",
    "                     df['IncomeFromLeavePay'] + df['IncomeFromChildSupport'] + \n",
    "                     df['IncomeOther'])"
   ]
  },
  {
   "cell_type": "code",
   "execution_count": 60,
   "id": "203ffce3",
   "metadata": {},
   "outputs": [],
   "source": [
    "df.drop(['IncomeFromPrincipalEmployer', 'IncomeFromPension',\n",
    "       'IncomeFromFamilyAllowance', 'IncomeFromSocialWelfare',\n",
    "       'IncomeFromLeavePay', 'IncomeFromChildSupport', 'IncomeOther',\n",
    "       'IncomeTotal'],axis=1,inplace=True)"
   ]
  },
  {
   "cell_type": "code",
   "execution_count": 61,
   "id": "81f25c24",
   "metadata": {},
   "outputs": [],
   "source": [
    "df['TotalLiabilities'] = df['LiabilitiesTotal'] + df['ExistingLiabilities'] + df['RefinanceLiabilities']"
   ]
  },
  {
   "cell_type": "code",
   "execution_count": 62,
   "id": "fb30aaa3",
   "metadata": {},
   "outputs": [],
   "source": [
    "df.drop([ 'ExistingLiabilities', 'LiabilitiesTotal',\n",
    "       'RefinanceLiabilities'],axis=1,inplace=True)"
   ]
  },
  {
   "cell_type": "code",
   "execution_count": 63,
   "id": "f689b1af",
   "metadata": {},
   "outputs": [
    {
     "data": {
      "text/plain": [
       "LoanNumber                                    0\n",
       "UserName                                      0\n",
       "NewCreditCustomer                             0\n",
       "VerificationType                             50\n",
       "LanguageCode                                  0\n",
       "Age                                           0\n",
       "Gender                                       45\n",
       "Country                                       0\n",
       "AppliedAmount                                 0\n",
       "Amount                                        0\n",
       "Interest                                      0\n",
       "LoanDuration                                  0\n",
       "MonthlyPayment                             6690\n",
       "UseOfLoan                                     0\n",
       "Education                                    50\n",
       "MaritalStatus                                50\n",
       "EmploymentStatus                            202\n",
       "EmploymentDurationCurrentEmployer          1606\n",
       "OccupationArea                               91\n",
       "HomeOwnershipType                          1657\n",
       "DebtToIncome                                 50\n",
       "FreeCash                                     50\n",
       "MonthlyPaymentDay                             0\n",
       "PlannedInterestTillDate                    1974\n",
       "LastPaymentOn                              6725\n",
       "ExpectedLoss                               2639\n",
       "LossGivenDefault                           2639\n",
       "ExpectedReturn                             2639\n",
       "ProbabilityOfDefault                       2639\n",
       "PrincipalOverdueBySchedule                14843\n",
       "RecoveryStage                             67295\n",
       "StageActiveSince                          60488\n",
       "Rating                                     2733\n",
       "Status                                        0\n",
       "Restructured                                  0\n",
       "WorseLateCategory                         52329\n",
       "CreditScoreEsMicroL                       30304\n",
       "CreditScoreEeMini                         74138\n",
       "PrincipalPaymentsMade                         0\n",
       "InterestAndPenaltyPaymentsMade                0\n",
       "PrincipalBalance                              0\n",
       "InterestAndPenaltyBalance                  5232\n",
       "NoOfPreviousLoansBeforeLoan                   9\n",
       "AmountOfPreviousLoansBeforeLoan               9\n",
       "PreviousRepaymentsBeforeLoan              62386\n",
       "PreviousEarlyRepaymentsCountBeforeLoan        9\n",
       "NextPaymentNr                             66944\n",
       "NrOfScheduledPayments                     66944\n",
       "TotalIncome                                   0\n",
       "TotalLiabilities                              0\n",
       "dtype: int64"
      ]
     },
     "execution_count": 63,
     "metadata": {},
     "output_type": "execute_result"
    }
   ],
   "source": [
    "#Checking the null values in the remaining columns\n",
    "df.isnull().sum()"
   ]
  },
  {
   "cell_type": "markdown",
   "id": "9b8411f9",
   "metadata": {},
   "source": [
    "Cleaning the categorical variables"
   ]
  },
  {
   "cell_type": "code",
   "execution_count": 64,
   "id": "e9001e0f",
   "metadata": {},
   "outputs": [],
   "source": [
    "# Setting the Education col\n",
    "edu_mapping = {\n",
    "    1: 'Primary',\n",
    "    2: 'Basic',\n",
    "    3: 'Vocational',\n",
    "    4: 'Secondary',\n",
    "    5: 'Higher',\n",
    "    -1: 'Not_present',\n",
    "    0: 'Not_present'\n",
    "}\n",
    "df['Education'] = df['Education'].map(edu_mapping)\n",
    "\n",
    "# Handling missing values\n",
    "df['Education'] = df['Education'].fillna('Unknown')"
   ]
  },
  {
   "cell_type": "code",
   "execution_count": 65,
   "id": "8194d5e5",
   "metadata": {},
   "outputs": [],
   "source": [
    "# Setting the gender col\n",
    "gender_mapping = {\n",
    "    0: 'Male',\n",
    "    1: 'Female',\n",
    "    2: 'Unknown'\n",
    "}\n",
    "df['Gender'] = df['Gender'].map(gender_mapping)"
   ]
  },
  {
   "cell_type": "code",
   "execution_count": 66,
   "id": "11b55b83",
   "metadata": {},
   "outputs": [],
   "source": [
    "# Setting the employment_status col\n",
    "emp_status_mapping = {\n",
    "    1: \"Un-Employed\",\n",
    "    2: \"Partially-Employed\",\n",
    "    3: \"Fully-Employed\",\n",
    "    4: \"Self-Employed\",\n",
    "    5: \"Entrepreneur\",\n",
    "    6: \"Retiree\",\n",
    "    -1: \"Unknown\",\n",
    "    0: \"Unknown\"\n",
    "}\n",
    "df['EmploymentStatus'] = df['EmploymentStatus'].map(emp_status_mapping)\n",
    "df['EmploymentStatus'] = df['EmploymentStatus'].fillna('Unknown')"
   ]
  },
  {
   "cell_type": "code",
   "execution_count": 67,
   "id": "a5f29c8b",
   "metadata": {},
   "outputs": [],
   "source": [
    "# Setting the homeownership status col \n",
    "homestatus_mapping = {\n",
    "    0: \"Homeless\",\n",
    "    1: \"Owner\",\n",
    "    2: \"Living_with_parents\",\n",
    "    3: \"Tenant_pre_furnished_property\",\n",
    "    4: \"Tenant_unfurnished_property\",\n",
    "    5: \"Council_house\",\n",
    "    6: \"Joint_tenant\",\n",
    "    7: \"Joint_Ownership\",\n",
    "    8: \"Mortgage\",\n",
    "    9: \"Owner_with_encumbrance\",\n",
    "    10: \"Other\",\n",
    "    -1: \"Unknown\"\n",
    "}\n",
    "df['HomeOwnershipType'] = df['HomeOwnershipType'].map(homestatus_mapping)\n",
    "df['HomeOwnershipType'] = df['HomeOwnershipType'].fillna('Unknown')"
   ]
  },
  {
   "cell_type": "code",
   "execution_count": 68,
   "id": "bbd144e2",
   "metadata": {},
   "outputs": [],
   "source": [
    "# Setting the marital_status col\n",
    "maritalstatus_mapping = {\n",
    "    -1: \"Not_specified\",\n",
    "    0: \"Not_specified\",\n",
    "    1: \"Married\",\n",
    "    2: \"Cohabitant\",\n",
    "    3: \"Single\",\n",
    "    4: \"Divorced\",\n",
    "    5: \"Widow\"\n",
    "}\n",
    "\n",
    "df['MaritalStatus'] = df['MaritalStatus'].map(maritalstatus_mapping)\n",
    "df['MaritalStatus'] = df['MaritalStatus'].fillna('Not_specified')"
   ]
  },
  {
   "cell_type": "code",
   "execution_count": 69,
   "id": "96eec84b",
   "metadata": {},
   "outputs": [],
   "source": [
    "# Setting the occupation col\n",
    "occupation_mapping = {\n",
    "    1: 'Other',\n",
    "    2: 'Mining',\n",
    "    3: 'Processing',\n",
    "    4: 'Energy',\n",
    "    5: 'Utilities',\n",
    "    6: 'Construction',\n",
    "    7: 'Retail_and_wholesale',\n",
    "    8: 'Transport_and_warehousing',\n",
    "    9: 'Hospitality_and_catering',\n",
    "    10: 'Info_and_telecom',\n",
    "    11: 'Finance_and_insurance',\n",
    "    12: 'Real_estate',\n",
    "    13: 'Research',\n",
    "    14: 'Administrative',\n",
    "    15: 'Civil_service_and_military',\n",
    "    16: 'Education',\n",
    "    17: 'Healthcare_and_social_help',\n",
    "    18: 'Art_and_entertainment',\n",
    "    19: 'Agriculture_forestry_and_fishing',\n",
    "    -1: 'Not_specified',\n",
    "    0: 'Not_specified'\n",
    "}\n",
    "\n",
    "df['OccupationArea'] = df['OccupationArea'].map(occupation_mapping)\n",
    "df['OccupationArea'] = df['OccupationArea'].fillna('Not_specified')"
   ]
  },
  {
   "cell_type": "code",
   "execution_count": 70,
   "id": "ec015864",
   "metadata": {},
   "outputs": [],
   "source": [
    "# Setting up the use of loan col\n",
    "use_of_loan_mapping = {\n",
    "    -1: 'Not_set',\n",
    "    0: 'Loan_consolidation',\n",
    "    1: 'Real_estate',\n",
    "    2: 'Home_improvement',\n",
    "    3: 'Business',\n",
    "    4: 'Education',\n",
    "    5: 'Travel',\n",
    "    6: 'Vehicle',\n",
    "    7: 'Other',\n",
    "    8: 'Health',\n",
    "    101: 'Working_capital_financing',\n",
    "    102: 'Purchase_of_machinery_equipment',\n",
    "    104: 'Accounts_receivable_financing',\n",
    "    106: 'Construction_finance',\n",
    "    107: 'Acquisition_of_stocks',\n",
    "    108: 'Acquisition_of_real_estate',\n",
    "    110: 'Other_business'\n",
    "}\n",
    "\n",
    "df['UseOfLoan'] = df['UseOfLoan'].map(use_of_loan_mapping)\n",
    "df['UseOfLoan'] = df['UseOfLoan'].fillna('Not_set')"
   ]
  },
  {
   "cell_type": "code",
   "execution_count": 71,
   "id": "27afc545",
   "metadata": {},
   "outputs": [],
   "source": [
    "# Setting the verification col\n",
    "verification_mapping = {\n",
    "    0.0: 'Not_set',\n",
    "    1.0: 'Income_unverified',\n",
    "    2.0: 'Income_unverified_crossref_phone',\n",
    "    3.0: 'Income_verified',\n",
    "    4.0: 'Income_expenses_verified'\n",
    "}\n",
    "df['VerificationType'] = df['VerificationType'].map(verification_mapping)\n",
    "df['VerificationType'] = df['VerificationType'].fillna('Not_set')"
   ]
  },
  {
   "cell_type": "code",
   "execution_count": 72,
   "id": "eb4e54d3",
   "metadata": {},
   "outputs": [],
   "source": [
    "# Setting the NewCreditCustomer col\n",
    "df['NewCreditCustomer'] = df['NewCreditCustomer'].replace({False: 'Existing_credit_customer', True: 'New_credit_Customer'})\n",
    "\n",
    "# Setting the Restructured col\n",
    "df['Restructured'] = df['Restructured'].replace({False: 'No', True: 'Yes'})\n",
    "\n",
    "# Setting the RecoveryStage col\n",
    "df['RecoveryStage'] = df['RecoveryStage'].replace({1: 'Collection', 0: 'Recovery'})"
   ]
  },
  {
   "cell_type": "code",
   "execution_count": 73,
   "id": "1779ee1d",
   "metadata": {},
   "outputs": [
    {
     "data": {
      "text/html": [
       "<div>\n",
       "<style scoped>\n",
       "    .dataframe tbody tr th:only-of-type {\n",
       "        vertical-align: middle;\n",
       "    }\n",
       "\n",
       "    .dataframe tbody tr th {\n",
       "        vertical-align: top;\n",
       "    }\n",
       "\n",
       "    .dataframe thead th {\n",
       "        text-align: right;\n",
       "    }\n",
       "</style>\n",
       "<table border=\"1\" class=\"dataframe\">\n",
       "  <thead>\n",
       "    <tr style=\"text-align: right;\">\n",
       "      <th></th>\n",
       "      <th>LoanNumber</th>\n",
       "      <th>UserName</th>\n",
       "      <th>NewCreditCustomer</th>\n",
       "      <th>VerificationType</th>\n",
       "      <th>LanguageCode</th>\n",
       "      <th>Age</th>\n",
       "      <th>Gender</th>\n",
       "      <th>Country</th>\n",
       "      <th>AppliedAmount</th>\n",
       "      <th>Amount</th>\n",
       "      <th>...</th>\n",
       "      <th>PrincipalBalance</th>\n",
       "      <th>InterestAndPenaltyBalance</th>\n",
       "      <th>NoOfPreviousLoansBeforeLoan</th>\n",
       "      <th>AmountOfPreviousLoansBeforeLoan</th>\n",
       "      <th>PreviousRepaymentsBeforeLoan</th>\n",
       "      <th>PreviousEarlyRepaymentsCountBeforeLoan</th>\n",
       "      <th>NextPaymentNr</th>\n",
       "      <th>NrOfScheduledPayments</th>\n",
       "      <th>TotalIncome</th>\n",
       "      <th>TotalLiabilities</th>\n",
       "    </tr>\n",
       "  </thead>\n",
       "  <tbody>\n",
       "    <tr>\n",
       "      <th>0</th>\n",
       "      <td>483449</td>\n",
       "      <td>BO965519</td>\n",
       "      <td>Existing_credit_customer</td>\n",
       "      <td>Income_expenses_verified</td>\n",
       "      <td>1</td>\n",
       "      <td>53</td>\n",
       "      <td>Female</td>\n",
       "      <td>EE</td>\n",
       "      <td>2125.0</td>\n",
       "      <td>2125.0</td>\n",
       "      <td>...</td>\n",
       "      <td>1155.84</td>\n",
       "      <td>433.60</td>\n",
       "      <td>1.0</td>\n",
       "      <td>500.0</td>\n",
       "      <td>590.95</td>\n",
       "      <td>0.0</td>\n",
       "      <td>NaN</td>\n",
       "      <td>NaN</td>\n",
       "      <td>354.0</td>\n",
       "      <td>499.09</td>\n",
       "    </tr>\n",
       "    <tr>\n",
       "      <th>1</th>\n",
       "      <td>378148</td>\n",
       "      <td>BOA9K172A</td>\n",
       "      <td>Existing_credit_customer</td>\n",
       "      <td>Income_unverified</td>\n",
       "      <td>1</td>\n",
       "      <td>50</td>\n",
       "      <td>Female</td>\n",
       "      <td>EE</td>\n",
       "      <td>3000.0</td>\n",
       "      <td>3000.0</td>\n",
       "      <td>...</td>\n",
       "      <td>2436.41</td>\n",
       "      <td>2291.82</td>\n",
       "      <td>1.0</td>\n",
       "      <td>1800.0</td>\n",
       "      <td>445.26</td>\n",
       "      <td>1.0</td>\n",
       "      <td>NaN</td>\n",
       "      <td>NaN</td>\n",
       "      <td>900.0</td>\n",
       "      <td>740.45</td>\n",
       "    </tr>\n",
       "    <tr>\n",
       "      <th>2</th>\n",
       "      <td>451831</td>\n",
       "      <td>BO7971663</td>\n",
       "      <td>New_credit_Customer</td>\n",
       "      <td>Income_expenses_verified</td>\n",
       "      <td>1</td>\n",
       "      <td>44</td>\n",
       "      <td>Male</td>\n",
       "      <td>EE</td>\n",
       "      <td>10630.0</td>\n",
       "      <td>9100.0</td>\n",
       "      <td>...</td>\n",
       "      <td>0.00</td>\n",
       "      <td>0.00</td>\n",
       "      <td>0.0</td>\n",
       "      <td>0.0</td>\n",
       "      <td>0.00</td>\n",
       "      <td>0.0</td>\n",
       "      <td>NaN</td>\n",
       "      <td>NaN</td>\n",
       "      <td>1200.0</td>\n",
       "      <td>915.00</td>\n",
       "    </tr>\n",
       "    <tr>\n",
       "      <th>3</th>\n",
       "      <td>349381</td>\n",
       "      <td>BO76151K3</td>\n",
       "      <td>New_credit_Customer</td>\n",
       "      <td>Income_verified</td>\n",
       "      <td>6</td>\n",
       "      <td>42</td>\n",
       "      <td>Male</td>\n",
       "      <td>ES</td>\n",
       "      <td>1500.0</td>\n",
       "      <td>1500.0</td>\n",
       "      <td>...</td>\n",
       "      <td>1035.27</td>\n",
       "      <td>2833.83</td>\n",
       "      <td>0.0</td>\n",
       "      <td>0.0</td>\n",
       "      <td>0.00</td>\n",
       "      <td>1.0</td>\n",
       "      <td>NaN</td>\n",
       "      <td>NaN</td>\n",
       "      <td>863.0</td>\n",
       "      <td>351.00</td>\n",
       "    </tr>\n",
       "    <tr>\n",
       "      <th>4</th>\n",
       "      <td>443082</td>\n",
       "      <td>BOK423A63</td>\n",
       "      <td>New_credit_Customer</td>\n",
       "      <td>Income_expenses_verified</td>\n",
       "      <td>6</td>\n",
       "      <td>34</td>\n",
       "      <td>Female</td>\n",
       "      <td>ES</td>\n",
       "      <td>1595.0</td>\n",
       "      <td>1090.0</td>\n",
       "      <td>...</td>\n",
       "      <td>1089.99</td>\n",
       "      <td>4215.37</td>\n",
       "      <td>0.0</td>\n",
       "      <td>0.0</td>\n",
       "      <td>0.00</td>\n",
       "      <td>0.0</td>\n",
       "      <td>NaN</td>\n",
       "      <td>NaN</td>\n",
       "      <td>697.0</td>\n",
       "      <td>947.00</td>\n",
       "    </tr>\n",
       "  </tbody>\n",
       "</table>\n",
       "<p>5 rows × 50 columns</p>\n",
       "</div>"
      ],
      "text/plain": [
       "   LoanNumber   UserName         NewCreditCustomer          VerificationType  \\\n",
       "0      483449   BO965519  Existing_credit_customer  Income_expenses_verified   \n",
       "1      378148  BOA9K172A  Existing_credit_customer         Income_unverified   \n",
       "2      451831  BO7971663       New_credit_Customer  Income_expenses_verified   \n",
       "3      349381  BO76151K3       New_credit_Customer           Income_verified   \n",
       "4      443082  BOK423A63       New_credit_Customer  Income_expenses_verified   \n",
       "\n",
       "   LanguageCode  Age  Gender Country  AppliedAmount  Amount  ...  \\\n",
       "0             1   53  Female      EE         2125.0  2125.0  ...   \n",
       "1             1   50  Female      EE         3000.0  3000.0  ...   \n",
       "2             1   44    Male      EE        10630.0  9100.0  ...   \n",
       "3             6   42    Male      ES         1500.0  1500.0  ...   \n",
       "4             6   34  Female      ES         1595.0  1090.0  ...   \n",
       "\n",
       "   PrincipalBalance  InterestAndPenaltyBalance  NoOfPreviousLoansBeforeLoan  \\\n",
       "0           1155.84                     433.60                          1.0   \n",
       "1           2436.41                    2291.82                          1.0   \n",
       "2              0.00                       0.00                          0.0   \n",
       "3           1035.27                    2833.83                          0.0   \n",
       "4           1089.99                    4215.37                          0.0   \n",
       "\n",
       "  AmountOfPreviousLoansBeforeLoan PreviousRepaymentsBeforeLoan  \\\n",
       "0                           500.0                       590.95   \n",
       "1                          1800.0                       445.26   \n",
       "2                             0.0                         0.00   \n",
       "3                             0.0                         0.00   \n",
       "4                             0.0                         0.00   \n",
       "\n",
       "  PreviousEarlyRepaymentsCountBeforeLoan NextPaymentNr NrOfScheduledPayments  \\\n",
       "0                                    0.0           NaN                   NaN   \n",
       "1                                    1.0           NaN                   NaN   \n",
       "2                                    0.0           NaN                   NaN   \n",
       "3                                    1.0           NaN                   NaN   \n",
       "4                                    0.0           NaN                   NaN   \n",
       "\n",
       "  TotalIncome TotalLiabilities  \n",
       "0       354.0           499.09  \n",
       "1       900.0           740.45  \n",
       "2      1200.0           915.00  \n",
       "3       863.0           351.00  \n",
       "4       697.0           947.00  \n",
       "\n",
       "[5 rows x 50 columns]"
      ]
     },
     "execution_count": 73,
     "metadata": {},
     "output_type": "execute_result"
    }
   ],
   "source": [
    "df.head()"
   ]
  },
  {
   "cell_type": "code",
   "execution_count": 74,
   "id": "faa2e3de",
   "metadata": {},
   "outputs": [
    {
     "data": {
      "text/plain": [
       "Index(['LoanNumber', 'UserName', 'NewCreditCustomer', 'VerificationType',\n",
       "       'LanguageCode', 'Age', 'Gender', 'Country', 'AppliedAmount', 'Amount',\n",
       "       'Interest', 'LoanDuration', 'MonthlyPayment', 'UseOfLoan', 'Education',\n",
       "       'MaritalStatus', 'EmploymentStatus',\n",
       "       'EmploymentDurationCurrentEmployer', 'OccupationArea',\n",
       "       'HomeOwnershipType', 'DebtToIncome', 'FreeCash', 'MonthlyPaymentDay',\n",
       "       'ExpectedReturn', 'ProbabilityOfDefault', 'Rating', 'Status',\n",
       "       'Restructured', 'CreditScoreEsMicroL', 'CreditScoreEeMini',\n",
       "       'PrincipalPaymentsMade', 'InterestAndPenaltyPaymentsMade',\n",
       "       'PrincipalBalance', 'InterestAndPenaltyBalance',\n",
       "       'NoOfPreviousLoansBeforeLoan', 'AmountOfPreviousLoansBeforeLoan',\n",
       "       'PreviousRepaymentsBeforeLoan',\n",
       "       'PreviousEarlyRepaymentsCountBeforeLoan', 'TotalIncome',\n",
       "       'TotalLiabilities'],\n",
       "      dtype='object')"
      ]
     },
     "execution_count": 74,
     "metadata": {},
     "output_type": "execute_result"
    }
   ],
   "source": [
    "# Dropping unnecessary columns\n",
    "drop_cols = ['PlannedInterestTillDate', 'LastPaymentOn', 'ExpectedLoss', 'LossGivenDefault', 'PrincipalOverdueBySchedule', 'PrincipalOverdueBySchedule', 'RecoveryStage', 'StageActiveSince', 'WorseLateCategory','NextPaymentNr', 'NrOfScheduledPayments']\n",
    "df.drop(drop_cols,axis=1,inplace=True)\n",
    "df.columns"
   ]
  },
  {
   "cell_type": "code",
   "execution_count": 75,
   "id": "34bbb488",
   "metadata": {},
   "outputs": [
    {
     "data": {
      "text/plain": [
       "LoanNumber                                    0\n",
       "UserName                                      0\n",
       "NewCreditCustomer                             0\n",
       "VerificationType                              0\n",
       "LanguageCode                                  0\n",
       "Age                                           0\n",
       "Gender                                       45\n",
       "Country                                       0\n",
       "AppliedAmount                                 0\n",
       "Amount                                        0\n",
       "Interest                                      0\n",
       "LoanDuration                                  0\n",
       "MonthlyPayment                             6690\n",
       "UseOfLoan                                     0\n",
       "Education                                     0\n",
       "MaritalStatus                                 0\n",
       "EmploymentStatus                              0\n",
       "EmploymentDurationCurrentEmployer          1606\n",
       "OccupationArea                                0\n",
       "HomeOwnershipType                             0\n",
       "DebtToIncome                                 50\n",
       "FreeCash                                     50\n",
       "MonthlyPaymentDay                             0\n",
       "ExpectedReturn                             2639\n",
       "ProbabilityOfDefault                       2639\n",
       "Rating                                     2733\n",
       "Status                                        0\n",
       "Restructured                                  0\n",
       "CreditScoreEsMicroL                       30304\n",
       "CreditScoreEeMini                         74138\n",
       "PrincipalPaymentsMade                         0\n",
       "InterestAndPenaltyPaymentsMade                0\n",
       "PrincipalBalance                              0\n",
       "InterestAndPenaltyBalance                  5232\n",
       "NoOfPreviousLoansBeforeLoan                   9\n",
       "AmountOfPreviousLoansBeforeLoan               9\n",
       "PreviousRepaymentsBeforeLoan              62386\n",
       "PreviousEarlyRepaymentsCountBeforeLoan        9\n",
       "TotalIncome                                   0\n",
       "TotalLiabilities                              0\n",
       "dtype: int64"
      ]
     },
     "execution_count": 75,
     "metadata": {},
     "output_type": "execute_result"
    }
   ],
   "source": [
    "df.isnull().sum()"
   ]
  },
  {
   "cell_type": "markdown",
   "id": "b690e3e2",
   "metadata": {},
   "source": [
    "Handling Missing Values"
   ]
  },
  {
   "cell_type": "code",
   "execution_count": 76,
   "id": "e11e3839",
   "metadata": {},
   "outputs": [],
   "source": [
    "df['Gender'] = df['Gender'].fillna('Unknown')"
   ]
  },
  {
   "cell_type": "code",
   "execution_count": 77,
   "id": "5b78d19c",
   "metadata": {},
   "outputs": [],
   "source": [
    "# Filling missing numerical values with the mean\n",
    "df['DebtToIncome'].fillna(df['DebtToIncome'].mean(), inplace=True)\n",
    "df['FreeCash'].fillna(df['FreeCash'].mean(), inplace=True)\n",
    "df['ExpectedReturn'].fillna(df['ExpectedReturn'].mean(), inplace=True)"
   ]
  },
  {
   "cell_type": "code",
   "execution_count": 78,
   "id": "8b3b53bd",
   "metadata": {},
   "outputs": [
    {
     "data": {
      "text/plain": [
       "Text(0, 0.5, 'Frequency')"
      ]
     },
     "execution_count": 78,
     "metadata": {},
     "output_type": "execute_result"
    },
    {
     "data": {
      "image/png": "[encoded data removed]",
      "text/plain": [
       "<Figure size 1200x600 with 1 Axes>"
      ]
     },
     "metadata": {},
     "output_type": "display_data"
    }
   ],
   "source": [
    "# Histogram for ProbabilityofDefault to know its distribution\n",
    "plt.figure(figsize=(12, 6))\n",
    "plt.subplot(1, 2, 1)\n",
    "plt.hist(df['ProbabilityOfDefault'].dropna(), bins=30, color='blue', alpha=0.7)\n",
    "plt.title('Distribution of ProbabilityOfDefault')\n",
    "plt.xlabel('Credit Score')\n",
    "plt.ylabel('Frequency')"
   ]
  },
  {
   "cell_type": "code",
   "execution_count": 79,
   "id": "a02de20e",
   "metadata": {},
   "outputs": [],
   "source": [
    "# Filling missing numerical values with the median since the distribution is quite skewed.\n",
    "df['ProbabilityOfDefault'].fillna(df['ProbabilityOfDefault'].median(), inplace=True)"
   ]
  },
  {
   "cell_type": "code",
   "execution_count": 80,
   "id": "65dcc1f3",
   "metadata": {},
   "outputs": [],
   "source": [
    "# Filling out categorical variable with mode\n",
    "df['Rating'].fillna(df['Rating'].mode()[0], inplace=True)"
   ]
  },
  {
   "cell_type": "code",
   "execution_count": 81,
   "id": "2f05a356",
   "metadata": {},
   "outputs": [],
   "source": [
    "# Replacing the Duration based on the Employment Status.\n",
    "def employment_duration(row):\n",
    "    if row['EmploymentStatus'] in ['Un-Employed', 'Retiree', 'Unknown']:\n",
    "        return \"Not-known\"\n",
    "    else:\n",
    "        return row['EmploymentDurationCurrentEmployer']\n",
    "df['EmploymentDurationCurrentEmployer'] = df.apply(employment_duration, axis=1)"
   ]
  },
  {
   "cell_type": "code",
   "execution_count": 82,
   "id": "aa19c0bc",
   "metadata": {},
   "outputs": [],
   "source": [
    "df['EmploymentDurationCurrentEmployer'].fillna(\"Unknown\", inplace=True)"
   ]
  },
  {
   "cell_type": "code",
   "execution_count": 83,
   "id": "3cf3e968",
   "metadata": {},
   "outputs": [],
   "source": [
    "# Considering that that the missing values indicate that the borrowers would not have taken any loans.\n",
    "df['NoOfPreviousLoansBeforeLoan'].fillna(0, inplace=True)\n",
    "df['AmountOfPreviousLoansBeforeLoan'].fillna(0, inplace=True)\n",
    "df['PreviousRepaymentsBeforeLoan'].fillna(0, inplace=True)\n",
    "df['PreviousEarlyRepaymentsCountBeforeLoan'].fillna(0, inplace=True)"
   ]
  },
  {
   "cell_type": "code",
   "execution_count": 84,
   "id": "dc42d1da",
   "metadata": {},
   "outputs": [
    {
     "data": {
      "image/png": "[encoded data removed]",
      "text/plain": [
       "<Figure size 1200x600 with 2 Axes>"
      ]
     },
     "metadata": {},
     "output_type": "display_data"
    }
   ],
   "source": [
    "plt.figure(figsize=(12, 6))\n",
    "\n",
    "# Histogram for CreditScoreEsMicroL\n",
    "plt.subplot(1, 2, 1)\n",
    "plt.hist(df['CreditScoreEsMicroL'].dropna(), bins=30, color='blue', alpha=0.7)\n",
    "plt.title('Distribution of CreditScoreEsMicroL')\n",
    "plt.xlabel('Credit Score')\n",
    "plt.ylabel('Frequency')\n",
    "\n",
    "# Histogram for CreditScoreEeMini\n",
    "plt.subplot(1, 2, 2)\n",
    "plt.hist(df['CreditScoreEeMini'].dropna(), bins=30, color='green', alpha=0.7)\n",
    "plt.title('Distribution of CreditScoreEeMini')\n",
    "plt.xlabel('Credit Score')\n",
    "plt.ylabel('Frequency')\n",
    "\n",
    "plt.tight_layout()\n",
    "plt.show()"
   ]
  },
  {
   "cell_type": "code",
   "execution_count": 85,
   "id": "116dc361",
   "metadata": {},
   "outputs": [],
   "source": [
    "# Filling out categorical variable with mode\n",
    "df['CreditScoreEsMicroL'].fillna(df['CreditScoreEsMicroL'].mode()[0], inplace=True)"
   ]
  },
  {
   "cell_type": "code",
   "execution_count": 86,
   "id": "8e5a0f6a",
   "metadata": {},
   "outputs": [],
   "source": [
    "df['CreditScoreEeMini'].fillna(df['CreditScoreEeMini'].median(), inplace=True)"
   ]
  },
  {
   "cell_type": "code",
   "execution_count": 87,
   "id": "671b19de",
   "metadata": {},
   "outputs": [
    {
     "data": {
      "text/plain": [
       "Text(0, 0.5, 'Frequency')"
      ]
     },
     "execution_count": 87,
     "metadata": {},
     "output_type": "execute_result"
    },
    {
     "data": {
      "image/png": "[encoded data removed]",
      "text/plain": [
       "<Figure size 1200x600 with 1 Axes>"
      ]
     },
     "metadata": {},
     "output_type": "display_data"
    }
   ],
   "source": [
    "plt.figure(figsize=(12, 6))\n",
    "\n",
    "# Histogram for CreditScoreEsMicroL\n",
    "plt.subplot(1, 2, 1)\n",
    "plt.hist(df['InterestAndPenaltyBalance'].dropna(), bins=30, color='blue', alpha=0.7)\n",
    "plt.title('InterestAndPenaltyBalance')\n",
    "plt.xlabel('Credit Score')\n",
    "plt.ylabel('Frequency')"
   ]
  },
  {
   "cell_type": "code",
   "execution_count": 88,
   "id": "a4a9c3ac",
   "metadata": {},
   "outputs": [
    {
     "data": {
      "text/plain": [
       "LoanNumber                                   0\n",
       "UserName                                     0\n",
       "NewCreditCustomer                            0\n",
       "VerificationType                             0\n",
       "LanguageCode                                 0\n",
       "Age                                          0\n",
       "Gender                                       0\n",
       "Country                                      0\n",
       "AppliedAmount                                0\n",
       "Amount                                       0\n",
       "Interest                                     0\n",
       "LoanDuration                                 0\n",
       "MonthlyPayment                            6690\n",
       "UseOfLoan                                    0\n",
       "Education                                    0\n",
       "MaritalStatus                                0\n",
       "EmploymentStatus                             0\n",
       "EmploymentDurationCurrentEmployer            0\n",
       "OccupationArea                               0\n",
       "HomeOwnershipType                            0\n",
       "DebtToIncome                                 0\n",
       "FreeCash                                     0\n",
       "MonthlyPaymentDay                            0\n",
       "ExpectedReturn                               0\n",
       "ProbabilityOfDefault                         0\n",
       "Rating                                       0\n",
       "Status                                       0\n",
       "Restructured                                 0\n",
       "CreditScoreEsMicroL                          0\n",
       "CreditScoreEeMini                            0\n",
       "PrincipalPaymentsMade                        0\n",
       "InterestAndPenaltyPaymentsMade               0\n",
       "PrincipalBalance                             0\n",
       "InterestAndPenaltyBalance                 5232\n",
       "NoOfPreviousLoansBeforeLoan                  0\n",
       "AmountOfPreviousLoansBeforeLoan              0\n",
       "PreviousRepaymentsBeforeLoan                 0\n",
       "PreviousEarlyRepaymentsCountBeforeLoan       0\n",
       "TotalIncome                                  0\n",
       "TotalLiabilities                             0\n",
       "dtype: int64"
      ]
     },
     "execution_count": 88,
     "metadata": {},
     "output_type": "execute_result"
    }
   ],
   "source": [
    "df.isnull().sum()"
   ]
  },
  {
   "cell_type": "code",
   "execution_count": 89,
   "id": "eb593dbc",
   "metadata": {},
   "outputs": [
    {
     "data": {
      "text/plain": [
       "Index(['LoanNumber', 'UserName', 'NewCreditCustomer', 'VerificationType',\n",
       "       'LanguageCode', 'Age', 'Gender', 'Country', 'AppliedAmount', 'Amount',\n",
       "       'Interest', 'LoanDuration', 'MonthlyPayment', 'UseOfLoan', 'Education',\n",
       "       'MaritalStatus', 'EmploymentStatus',\n",
       "       'EmploymentDurationCurrentEmployer', 'OccupationArea',\n",
       "       'HomeOwnershipType', 'DebtToIncome', 'FreeCash', 'MonthlyPaymentDay',\n",
       "       'ExpectedReturn', 'ProbabilityOfDefault', 'Rating', 'Status',\n",
       "       'Restructured', 'CreditScoreEsMicroL', 'CreditScoreEeMini',\n",
       "       'PrincipalPaymentsMade', 'InterestAndPenaltyPaymentsMade',\n",
       "       'PrincipalBalance', 'InterestAndPenaltyBalance',\n",
       "       'NoOfPreviousLoansBeforeLoan', 'AmountOfPreviousLoansBeforeLoan',\n",
       "       'PreviousRepaymentsBeforeLoan',\n",
       "       'PreviousEarlyRepaymentsCountBeforeLoan', 'TotalIncome',\n",
       "       'TotalLiabilities'],\n",
       "      dtype='object')"
      ]
     },
     "execution_count": 89,
     "metadata": {},
     "output_type": "execute_result"
    }
   ],
   "source": [
    "df.columns"
   ]
  },
  {
   "cell_type": "code",
   "execution_count": 90,
   "id": "2928ae74",
   "metadata": {},
   "outputs": [],
   "source": [
    "df.drop(['LoanNumber', 'UserName','MonthlyPaymentDay','Status',  'PrincipalPaymentsMade', 'InterestAndPenaltyPaymentsMade',\n",
    "       'PrincipalBalance', 'InterestAndPenaltyBalance',  'PreviousRepaymentsBeforeLoan',\n",
    "       'PreviousEarlyRepaymentsCountBeforeLoan'],axis=1,inplace=True)"
   ]
  },
  {
   "cell_type": "code",
   "execution_count": 91,
   "id": "87182546",
   "metadata": {},
   "outputs": [],
   "source": [
    "df.drop(['LoanDuration'],axis=1,inplace=True)"
   ]
  },
  {
   "cell_type": "code",
   "execution_count": 92,
   "id": "98c9b016",
   "metadata": {},
   "outputs": [],
   "source": [
    "df.drop(['MonthlyPayment'],axis=1,inplace=True)"
   ]
  },
  {
   "cell_type": "code",
   "execution_count": 93,
   "id": "0c0f86ba",
   "metadata": {},
   "outputs": [
    {
     "data": {
      "text/html": [
       "<div>\n",
       "<style scoped>\n",
       "    .dataframe tbody tr th:only-of-type {\n",
       "        vertical-align: middle;\n",
       "    }\n",
       "\n",
       "    .dataframe tbody tr th {\n",
       "        vertical-align: top;\n",
       "    }\n",
       "\n",
       "    .dataframe thead th {\n",
       "        text-align: right;\n",
       "    }\n",
       "</style>\n",
       "<table border=\"1\" class=\"dataframe\">\n",
       "  <thead>\n",
       "    <tr style=\"text-align: right;\">\n",
       "      <th></th>\n",
       "      <th>NewCreditCustomer</th>\n",
       "      <th>VerificationType</th>\n",
       "      <th>LanguageCode</th>\n",
       "      <th>Age</th>\n",
       "      <th>Gender</th>\n",
       "      <th>Country</th>\n",
       "      <th>AppliedAmount</th>\n",
       "      <th>Amount</th>\n",
       "      <th>Interest</th>\n",
       "      <th>UseOfLoan</th>\n",
       "      <th>...</th>\n",
       "      <th>ExpectedReturn</th>\n",
       "      <th>ProbabilityOfDefault</th>\n",
       "      <th>Rating</th>\n",
       "      <th>Restructured</th>\n",
       "      <th>CreditScoreEsMicroL</th>\n",
       "      <th>CreditScoreEeMini</th>\n",
       "      <th>NoOfPreviousLoansBeforeLoan</th>\n",
       "      <th>AmountOfPreviousLoansBeforeLoan</th>\n",
       "      <th>TotalIncome</th>\n",
       "      <th>TotalLiabilities</th>\n",
       "    </tr>\n",
       "  </thead>\n",
       "  <tbody>\n",
       "    <tr>\n",
       "      <th>0</th>\n",
       "      <td>Existing_credit_customer</td>\n",
       "      <td>Income_expenses_verified</td>\n",
       "      <td>1</td>\n",
       "      <td>53</td>\n",
       "      <td>Female</td>\n",
       "      <td>EE</td>\n",
       "      <td>2125.0</td>\n",
       "      <td>2125.0</td>\n",
       "      <td>20.97</td>\n",
       "      <td>Home_improvement</td>\n",
       "      <td>...</td>\n",
       "      <td>0.141145</td>\n",
       "      <td>0.122216</td>\n",
       "      <td>C</td>\n",
       "      <td>No</td>\n",
       "      <td>M</td>\n",
       "      <td>1000.0</td>\n",
       "      <td>1.0</td>\n",
       "      <td>500.0</td>\n",
       "      <td>354.0</td>\n",
       "      <td>499.09</td>\n",
       "    </tr>\n",
       "    <tr>\n",
       "      <th>1</th>\n",
       "      <td>Existing_credit_customer</td>\n",
       "      <td>Income_unverified</td>\n",
       "      <td>1</td>\n",
       "      <td>50</td>\n",
       "      <td>Female</td>\n",
       "      <td>EE</td>\n",
       "      <td>3000.0</td>\n",
       "      <td>3000.0</td>\n",
       "      <td>17.12</td>\n",
       "      <td>Business</td>\n",
       "      <td>...</td>\n",
       "      <td>0.140436</td>\n",
       "      <td>0.036400</td>\n",
       "      <td>B</td>\n",
       "      <td>No</td>\n",
       "      <td>M</td>\n",
       "      <td>1000.0</td>\n",
       "      <td>1.0</td>\n",
       "      <td>1800.0</td>\n",
       "      <td>900.0</td>\n",
       "      <td>740.45</td>\n",
       "    </tr>\n",
       "    <tr>\n",
       "      <th>2</th>\n",
       "      <td>New_credit_Customer</td>\n",
       "      <td>Income_expenses_verified</td>\n",
       "      <td>1</td>\n",
       "      <td>44</td>\n",
       "      <td>Male</td>\n",
       "      <td>EE</td>\n",
       "      <td>10630.0</td>\n",
       "      <td>9100.0</td>\n",
       "      <td>13.67</td>\n",
       "      <td>Business</td>\n",
       "      <td>...</td>\n",
       "      <td>0.113484</td>\n",
       "      <td>0.041300</td>\n",
       "      <td>A</td>\n",
       "      <td>No</td>\n",
       "      <td>M</td>\n",
       "      <td>1000.0</td>\n",
       "      <td>0.0</td>\n",
       "      <td>0.0</td>\n",
       "      <td>1200.0</td>\n",
       "      <td>915.00</td>\n",
       "    </tr>\n",
       "    <tr>\n",
       "      <th>3</th>\n",
       "      <td>New_credit_Customer</td>\n",
       "      <td>Income_verified</td>\n",
       "      <td>6</td>\n",
       "      <td>42</td>\n",
       "      <td>Male</td>\n",
       "      <td>ES</td>\n",
       "      <td>1500.0</td>\n",
       "      <td>1500.0</td>\n",
       "      <td>40.40</td>\n",
       "      <td>Home_improvement</td>\n",
       "      <td>...</td>\n",
       "      <td>0.183229</td>\n",
       "      <td>0.188726</td>\n",
       "      <td>F</td>\n",
       "      <td>No</td>\n",
       "      <td>M3</td>\n",
       "      <td>1000.0</td>\n",
       "      <td>0.0</td>\n",
       "      <td>0.0</td>\n",
       "      <td>863.0</td>\n",
       "      <td>351.00</td>\n",
       "    </tr>\n",
       "    <tr>\n",
       "      <th>4</th>\n",
       "      <td>New_credit_Customer</td>\n",
       "      <td>Income_expenses_verified</td>\n",
       "      <td>6</td>\n",
       "      <td>34</td>\n",
       "      <td>Female</td>\n",
       "      <td>ES</td>\n",
       "      <td>1595.0</td>\n",
       "      <td>1090.0</td>\n",
       "      <td>68.39</td>\n",
       "      <td>Other</td>\n",
       "      <td>...</td>\n",
       "      <td>0.115240</td>\n",
       "      <td>0.749511</td>\n",
       "      <td>HR</td>\n",
       "      <td>No</td>\n",
       "      <td>M5</td>\n",
       "      <td>1000.0</td>\n",
       "      <td>0.0</td>\n",
       "      <td>0.0</td>\n",
       "      <td>697.0</td>\n",
       "      <td>947.00</td>\n",
       "    </tr>\n",
       "  </tbody>\n",
       "</table>\n",
       "<p>5 rows × 28 columns</p>\n",
       "</div>"
      ],
      "text/plain": [
       "          NewCreditCustomer          VerificationType  LanguageCode  Age  \\\n",
       "0  Existing_credit_customer  Income_expenses_verified             1   53   \n",
       "1  Existing_credit_customer         Income_unverified             1   50   \n",
       "2       New_credit_Customer  Income_expenses_verified             1   44   \n",
       "3       New_credit_Customer           Income_verified             6   42   \n",
       "4       New_credit_Customer  Income_expenses_verified             6   34   \n",
       "\n",
       "   Gender Country  AppliedAmount  Amount  Interest         UseOfLoan  ...  \\\n",
       "0  Female      EE         2125.0  2125.0     20.97  Home_improvement  ...   \n",
       "1  Female      EE         3000.0  3000.0     17.12          Business  ...   \n",
       "2    Male      EE        10630.0  9100.0     13.67          Business  ...   \n",
       "3    Male      ES         1500.0  1500.0     40.40  Home_improvement  ...   \n",
       "4  Female      ES         1595.0  1090.0     68.39             Other  ...   \n",
       "\n",
       "  ExpectedReturn ProbabilityOfDefault Rating Restructured CreditScoreEsMicroL  \\\n",
       "0       0.141145             0.122216      C           No                   M   \n",
       "1       0.140436             0.036400      B           No                   M   \n",
       "2       0.113484             0.041300      A           No                   M   \n",
       "3       0.183229             0.188726      F           No                  M3   \n",
       "4       0.115240             0.749511     HR           No                  M5   \n",
       "\n",
       "  CreditScoreEeMini  NoOfPreviousLoansBeforeLoan  \\\n",
       "0            1000.0                          1.0   \n",
       "1            1000.0                          1.0   \n",
       "2            1000.0                          0.0   \n",
       "3            1000.0                          0.0   \n",
       "4            1000.0                          0.0   \n",
       "\n",
       "   AmountOfPreviousLoansBeforeLoan  TotalIncome  TotalLiabilities  \n",
       "0                            500.0        354.0            499.09  \n",
       "1                           1800.0        900.0            740.45  \n",
       "2                              0.0       1200.0            915.00  \n",
       "3                              0.0        863.0            351.00  \n",
       "4                              0.0        697.0            947.00  \n",
       "\n",
       "[5 rows x 28 columns]"
      ]
     },
     "execution_count": 93,
     "metadata": {},
     "output_type": "execute_result"
    }
   ],
   "source": [
    "df.head()"
   ]
  },
  {
   "cell_type": "code",
   "execution_count": null,
   "id": "dcef909e",
   "metadata": {},
   "outputs": [],
   "source": [
    "df.to_csv('Cleaned_Loan_approval_dataset.csv', index=False)"
   ]
  },
  {
   "cell_type": "code",
   "execution_count": null,
   "id": "fa71bcb5",
   "metadata": {},
   "outputs": [],
   "source": [
    "df.dtypes"
   ]
  },
  {
   "cell_type": "code",
   "execution_count": null,
   "id": "5bdc51f4",
   "metadata": {},
   "outputs": [],
   "source": [
    "label_encoders = {}\n",
    "\n",
    "# Looping through each categorical column and fitting a LabelEncoder\n",
    "for column in categorical_columns:\n",
    "    encoder = LabelEncoder()\n",
    "    df[column] = encoder.fit_transform(df[column])\n",
    "    label_encoders[column] = encoder  # Save encoder for the column\n",
    "\n",
    "# Save all encoders in a single file\n",
    "joblib.dump(label_encoders, 'label_encoders.pkl')"
   ]
  },
  {
   "cell_type": "code",
   "execution_count": null,
   "id": "24d66f5e",
   "metadata": {},
   "outputs": [],
   "source": [
    "df.head()"
   ]
  },
  {
   "cell_type": "code",
   "execution_count": null,
   "id": "9f8d0b23",
   "metadata": {},
   "outputs": [],
   "source": []
  }
 ],
 "metadata": {
  "kernelspec": {
   "display_name": "Python 3 (ipykernel)",
   "language": "python",
   "name": "python3"
  },
  "language_info": {
   "codemirror_mode": {
    "name": "ipython",
    "version": 3
   },
   "file_extension": ".py",
   "mimetype": "text/x-python",
   "name": "python",
   "nbconvert_exporter": "python",
   "pygments_lexer": "ipython3",
   "version": "3.11.5"
  }
 },
 "nbformat": 4,
 "nbformat_minor": 5
}
